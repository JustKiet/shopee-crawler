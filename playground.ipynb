{
 "cells": [
  {
   "cell_type": "code",
   "execution_count": 1,
   "metadata": {},
   "outputs": [],
   "source": [
    "from bs4 import BeautifulSoup\n",
    "import json"
   ]
  },
  {
   "cell_type": "code",
   "execution_count": 2,
   "metadata": {},
   "outputs": [],
   "source": [
    "# Get daily suggestion chunk\n",
    "with open('homepage.html', 'r', encoding='utf-8') as f:\n",
    "    soup = BeautifulSoup(f, 'html.parser')\n",
    "\n",
    "daily_suggestion_html = soup.find(\"div\", class_=\"stardust-tabs-panels\")"
   ]
  },
  {
   "cell_type": "code",
   "execution_count": 3,
   "metadata": {},
   "outputs": [],
   "source": [
    "from shopee_crawler.pipeline import ProductListCrawler\n",
    "\n",
    "product_list = ProductListCrawler(daily_suggestion_html, to_file=True)"
   ]
  },
  {
   "cell_type": "code",
   "execution_count": 4,
   "metadata": {},
   "outputs": [
    {
     "name": "stdout",
     "output_type": "stream",
     "text": [
      "https://shopee.vn/Áo-Sơ-Mi-Kẻ-Sọc-Tay-Dài-Nam-Nữ-Hàn-Quốc-Local-Brand-KATHOLIC-Chất-Liệu-Oxford-Form-Rộng-3-Màu-Xám-Hồng-Xanh-KAT012-i.983530276.16195543153?sp_atk=1b36bcf8-49f2-4894-8f41-5030b0fb7398&xptdk=1b36bcf8-49f2-4894-8f41-5030b0fb7398\n"
     ]
    }
   ],
   "source": [
    "product_links = product_list[0]['productLink']\n",
    "print(product_links)"
   ]
  },
  {
   "cell_type": "code",
   "execution_count": 5,
   "metadata": {},
   "outputs": [],
   "source": [
    "from shopee_crawler.pipeline import DetailedInfoCrawler\n",
    "\n",
    "output = DetailedInfoCrawler('output.html', to_file=True)"
   ]
  },
  {
   "cell_type": "code",
   "execution_count": 6,
   "metadata": {},
   "outputs": [],
   "source": [
    "with open('outputs/product_list_output.json', 'r', encoding='utf-8') as f:\n",
    "    product_list = json.load(f)"
   ]
  },
  {
   "cell_type": "code",
   "execution_count": 7,
   "metadata": {},
   "outputs": [
    {
     "data": {
      "text/plain": [
       "{'name': 'Áo Sơ Mi Kẻ Sọc Tay Dài Nam Nữ Hàn Quốc Local Brand KATHOLIC',\n",
       " 'discountedPrice': 149000,\n",
       " 'discount': 50,\n",
       " 'salesCount': 39900,\n",
       " 'actualPrice': 298000,\n",
       " 'productLink': 'https://shopee.vn/Áo-Sơ-Mi-Kẻ-Sọc-Tay-Dài-Nam-Nữ-Hàn-Quốc-Local-Brand-KATHOLIC-Chất-Liệu-Oxford-Form-Rộng-3-Màu-Xám-Hồng-Xanh-KAT012-i.983530276.16195543153?sp_atk=1b36bcf8-49f2-4894-8f41-5030b0fb7398&xptdk=1b36bcf8-49f2-4894-8f41-5030b0fb7398'}"
      ]
     },
     "execution_count": 7,
     "metadata": {},
     "output_type": "execute_result"
    }
   ],
   "source": [
    "product_list[0]"
   ]
  },
  {
   "cell_type": "code",
   "execution_count": 8,
   "metadata": {},
   "outputs": [
    {
     "name": "stdout",
     "output_type": "stream",
     "text": [
      "{'name': 'Áo Sơ Mi Kẻ Sọc Tay Dài Nam Nữ Hàn Quốc Local Brand KATHOLIC', 'description': 'Áo Sơ Mi Tay Dài Kẻ Sọc Oxford được làm từ chất liệu cotton oxford siêu mới, với thiết kế oversize phù hợp với nhiều khách hàng trẻ đam mê thời trang.', 'intendedUse': 'Mặc ở nhà, mặc đi chơi hoặc khi vận động thể thao', 'manufacturerName': 'KATHOLIC', 'manufacturerLink': None, 'additionalInfo': 'Sản phẩm có thể giặt tay hoặc giặt máy, với các lưu ý về giặt và bảo quản. Cam kết sản phẩm giống với mô tả và có chế độ bảo hành trong vòng 7 ngày nếu có lỗi.', 'distributorName': 'KATHOLIC', 'distributorLink': 'https://shopee.vn/katholic?categoryId=100011&entryPoint=ShopByPDP&itemId=16195543153', 'actualPrice': 298000, 'discountedPrice': 149000, 'salesCount': 39900, 'productLink': 'https://shopee.vn/Áo-Sơ-Mi-Kẻ-Sọc-Tay-Dài-Nam-Nữ-Hàn-Quốc-Local-Brand-KATHOLIC-Chất-Liệu-Oxford-Form-Rộng-3-Màu-Xám-Hồng-Xanh-KAT012-i.983530276.16195543153?sp_atk=1b36bcf8-49f2-4894-8f41-5030b0fb7398&xptdk=1b36bcf8-49f2-4894-8f41-5030b0fb7398'}\n"
     ]
    }
   ],
   "source": [
    "from shopee_crawler.functions import organize_json\n",
    "\n",
    "final_json_sample = organize_json(general_json=product_list[0], detailed_json=output, to_file=True)\n",
    "print(final_json_sample)\n"
   ]
  }
 ],
 "metadata": {
  "kernelspec": {
   "display_name": ".env",
   "language": "python",
   "name": "python3"
  },
  "language_info": {
   "codemirror_mode": {
    "name": "ipython",
    "version": 3
   },
   "file_extension": ".py",
   "mimetype": "text/x-python",
   "name": "python",
   "nbconvert_exporter": "python",
   "pygments_lexer": "ipython3",
   "version": "3.11.1"
  }
 },
 "nbformat": 4,
 "nbformat_minor": 2
}
